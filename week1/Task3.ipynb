{
 "cells": [
  {
   "cell_type": "code",
   "execution_count": 2,
   "metadata": {
    "collapsed": true
   },
   "outputs": [],
   "source": [
    "import numpy as np\n",
    "import pandas as pd\n",
    "import matplotlib.pyplot as plt"
   ]
  },
  {
   "cell_type": "code",
   "execution_count": 3,
   "metadata": {},
   "outputs": [
    {
     "data": {
      "text/plain": [
       "(240, 27)"
      ]
     },
     "execution_count": 3,
     "metadata": {},
     "output_type": "execute_result"
    }
   ],
   "source": [
    "train = pd.read_csv(\"train.csv\")\n",
    "test = pd.read_csv(\"test(1).csv\")\n",
    "train = train[train['observation'] == 'PM2.5']\n",
    "test = test[test['AMB_TEMP'] == 'PM2.5']\n",
    "train.shape\n"
   ]
  },
  {
   "cell_type": "code",
   "execution_count": 4,
   "metadata": {
    "collapsed": true
   },
   "outputs": [],
   "source": [
    "train = train.iloc[:,3:]\n",
    "test = test.iloc[:,2:]\n"
   ]
  },
  {
   "cell_type": "code",
   "execution_count": 5,
   "metadata": {
    "collapsed": true
   },
   "outputs": [],
   "source": [
    "train = np.array(train, dtype = 'float32')\n",
    "test = np.array(test, dtype = 'float32')"
   ]
  },
  {
   "cell_type": "code",
   "execution_count": 6,
   "metadata": {},
   "outputs": [
    {
     "data": {
      "text/plain": [
       "(1, 5760)"
      ]
     },
     "execution_count": 6,
     "metadata": {},
     "output_type": "execute_result"
    }
   ],
   "source": [
    "train = train.reshape(1,train.shape[0]*train.shape[1])\n",
    "PM = train\n",
    "train.shape"
   ]
  },
  {
   "cell_type": "code",
   "execution_count": 7,
   "metadata": {
    "collapsed": true
   },
   "outputs": [],
   "source": [
    "#数据归一化 参考追风者\n",
    "PM_mean = int(PM.mean())\n",
    "PM_theta = int(PM.var()**0.5)\n",
    "PM = (PM - PM_mean) / PM_theta\n",
    "\n",
    "np.random.seed(3)\n",
    "W = np.random.randn(1,10) * 0.01\n",
    "# b = np.zeros((1,1))"
   ]
  },
  {
   "cell_type": "code",
   "execution_count": 8,
   "metadata": {},
   "outputs": [
    {
     "data": {
      "text/plain": [
       "array([[ 0.3125,  1.125 ,  0.9375, ..., -0.25  ,  0.1875,  0.5   ]],\n",
       "      dtype=float32)"
      ]
     },
     "execution_count": 8,
     "metadata": {},
     "output_type": "execute_result"
    }
   ],
   "source": [
    "PM"
   ]
  },
  {
   "cell_type": "code",
   "execution_count": 9,
   "metadata": {},
   "outputs": [
    {
     "name": "stdout",
     "output_type": "stream",
     "text": [
      "0.5652798942384871\n",
      "0.14202641417161768\n",
      "0.11703061312420956\n",
      "0.10595212665605298\n",
      "0.09941230484106459\n",
      "0.09506424186473232\n",
      "0.09195435139690422\n",
      "0.0896142029644447\n",
      "0.08778671006443074\n",
      "0.08631852976993327\n",
      "0.08511222861343681\n",
      "0.08410285261918274\n",
      "0.08324543797714005\n",
      "0.0825078805668368\n",
      "0.0818666452148035\n"
     ]
    }
   ],
   "source": [
    "#正向传播以及梯度下降\n",
    "costs = []\n",
    "lean_rate = 0.1\n",
    "m = PM.shape[1] - 9\n",
    "for i in range(150):\n",
    "    cost = 0\n",
    "    grad = 0\n",
    "    for j in range(m):\n",
    "        x = np.array(PM[:,j:j+9])\n",
    "        x = np.insert(x,0,1).reshape(10,1)\n",
    "        error = PM[:,j+9] - np.dot(W,x)\n",
    "        cost += float(error**2) \n",
    "        grad += (error) * x.T\n",
    "    cost = cost / (2*m)\n",
    "    costs.append(cost)\n",
    "    dW = grad/m\n",
    "    if i % 10 == 0 :\n",
    "        print(cost)\n",
    "    W = W + lean_rate*dW\n",
    "\n",
    "        "
   ]
  },
  {
   "cell_type": "code",
   "execution_count": 10,
   "metadata": {},
   "outputs": [
    {
     "data": {
      "text/plain": [
       "array([[ 0.00235342, -0.00162907,  0.01444095,  0.00483302, -0.02553095,\n",
       "         0.04194151,  0.13224215, -0.29822641,  0.1256594 ,  0.91789677]])"
      ]
     },
     "execution_count": 10,
     "metadata": {},
     "output_type": "execute_result"
    }
   ],
   "source": [
    "W"
   ]
  },
  {
   "cell_type": "code",
   "execution_count": 11,
   "metadata": {
    "collapsed": true
   },
   "outputs": [],
   "source": [
    "%matplotlib inline"
   ]
  },
  {
   "cell_type": "code",
   "execution_count": 12,
   "metadata": {},
   "outputs": [
    {
     "data": {
      "text/plain": [
       "Text(0.5,1,'learn = 0.1')"
      ]
     },
     "execution_count": 12,
     "metadata": {},
     "output_type": "execute_result"
    },
    {
     "data": {
      "image/png": "[encoded data removed]",
      "text/plain": [
       "<matplotlib.figure.Figure at 0x23aec1b6898>"
      ]
     },
     "metadata": {},
     "output_type": "display_data"
    }
   ],
   "source": [
    "plt.plot(costs)\n",
    "plt.xlabel(\"num of iter\")\n",
    "plt.ylabel(\"cost\")\n",
    "plt.title(\"learn = 0.1\")"
   ]
  },
  {
   "cell_type": "code",
   "execution_count": 13,
   "metadata": {
    "collapsed": true
   },
   "outputs": [],
   "source": [
    "#处理测试数据\n",
    "test = pd.read_csv(\"test(1).csv\")\n",
    "test = test[test['AMB_TEMP'] == 'PM2.5']\n",
    "test = test.iloc[:,2:]\n",
    "x = test.insert(0,0,1)\n",
    "test = np.array(test, dtype = 'float32')"
   ]
  },
  {
   "cell_type": "code",
   "execution_count": 14,
   "metadata": {},
   "outputs": [
    {
     "data": {
      "text/plain": [
       "(240, 10)"
      ]
     },
     "execution_count": 14,
     "metadata": {},
     "output_type": "execute_result"
    }
   ],
   "source": [
    "test.shape"
   ]
  },
  {
   "cell_type": "code",
   "execution_count": 15,
   "metadata": {},
   "outputs": [
    {
     "data": {
      "text/plain": [
       "(10, 240)"
      ]
     },
     "execution_count": 15,
     "metadata": {},
     "output_type": "execute_result"
    }
   ],
   "source": [
    "test = test.T\n",
    "test.shape"
   ]
  },
  {
   "cell_type": "code",
   "execution_count": 16,
   "metadata": {
    "collapsed": true
   },
   "outputs": [],
   "source": [
    "# test_mean = int(test.mean())\n",
    "# test_theta = int(test.var()**0.5)\n",
    "# test = (test - test_mean) / test_theta"
   ]
  },
  {
   "cell_type": "code",
   "execution_count": 17,
   "metadata": {
    "collapsed": true
   },
   "outputs": [],
   "source": [
    "y_pred = np.dot(W,test)  #正向传播"
   ]
  },
  {
   "cell_type": "code",
   "execution_count": 18,
   "metadata": {
    "collapsed": true
   },
   "outputs": [],
   "source": [
    "np.set_printoptions(precision=3)\n",
    "np.set_printoptions(suppress=True)"
   ]
  },
  {
   "cell_type": "code",
   "execution_count": 28,
   "metadata": {},
   "outputs": [
    {
     "data": {
      "text/plain": [
       "array([[ 25.654,  58.525,  18.817,  25.794,   9.285,  30.224,  37.3  ,\n",
       "         13.909,  43.815,  31.642,  36.376,  56.119,  36.258,  34.485,\n",
       "         27.223,  11.08 ,  51.26 ,  19.452,  15.434,  16.663,  13.164,\n",
       "         22.91 ,  35.852,   7.85 ,  55.94 ,  41.814,  26.409,   8.087,\n",
       "         27.388,  33.219,  15.603,  10.601,  14.597,   4.908,  15.952,\n",
       "         38.081,  19.965,  27.668,   4.192,  57.221,  42.335,  16.82 ,\n",
       "         47.952,  16.707,  40.662,  49.36 ,  60.735,  37.526,  47.44 ,\n",
       "         39.14 ,  28.975,  21.49 ,  43.169,  25.039,  36.357,  37.586,\n",
       "         23.773,  19.361,  36.51 ,  30.554,  11.476,  24.267,  28.435,\n",
       "         50.73 ,  46.471,  25.342,  38.153,  52.779,  26.587,  37.059,\n",
       "         62.182,  50.976,  41.633,   9.776,  10.099,  33.33 ,  58.082,\n",
       "          2.119,  45.18 ,  37.071,   5.552,  18.788,   7.393,  34.044,\n",
       "          8.142,   3.287,  15.097,   9.597,  10.102,  22.271,  27.702,\n",
       "          9.713,  10.515,   8.074,  33.061,  13.918,  13.993,   6.354,\n",
       "          9.001,   2.449,  11.64 ,  16.324,   8.775,   3.442,  13.112,\n",
       "         33.846,  23.486,   7.981,  16.173,  16.358,  10.609,  13.507,\n",
       "         11.929,  25.038,  21.903,  12.785,  11.514,  39.8  ,  27.447,\n",
       "          0.17 ,   1.424,  11.368,  14.333,  13.401,   3.896,  24.947,\n",
       "         22.028,  11.417,  17.161,  14.75 ,   2.689,  33.77 ,  14.734,\n",
       "         29.024,  22.094,  19.737,   9.471,  19.182,  72.85 ,  63.519,\n",
       "         26.443,  15.506,  23.67 ,   6.546,  13.342,   8.588,  20.277,\n",
       "          6.172,  11.332,  15.583,  47.019,  16.116,  21.81 ,  12.919,\n",
       "         14.443,  25.763,  16.916,  31.797,   0.674,  15.721,  37.972,\n",
       "         16.576,  48.378,  18.097,  35.472,  23.805,  17.303,   0.032,\n",
       "         64.727,  16.458,  16.961,  64.796,  18.268,   1.723,  23.862,\n",
       "         -0.102,   6.219,  16.673,  19.305,  18.397,  39.535,  27.39 ,\n",
       "         29.659,  11.93 ,   7.152,  39.515,  34.521,  29.755,  12.9  ,\n",
       "         20.687,  12.223,  12.616,  30.856,  76.199,  30.815,  10.228,\n",
       "         58.045,  16.083,  18.249,  20.852, 120.79 ,  24.517,  56.628,\n",
       "          2.93 ,  58.449,  30.779,  15.28 ,  14.846,  60.533,  11.411,\n",
       "         30.203,  69.688,  20.01 , 115.833,  36.448,  78.349,  85.449,\n",
       "         66.233,  28.313,  21.659,  28.921,  51.272,  25.915,  38.958,\n",
       "         43.385,   5.254,   4.837,  66.609,  24.287,   0.465,  36.32 ,\n",
       "         12.67 ,  19.416,   5.385,  12.752,  20.15 ,  11.977,  -0.964,\n",
       "         22.459,   0.709]])"
      ]
     },
     "execution_count": 28,
     "metadata": {},
     "output_type": "execute_result"
    }
   ],
   "source": [
    "y_pred"
   ]
  },
  {
   "cell_type": "code",
   "execution_count": 21,
   "metadata": {},
   "outputs": [],
   "source": [
    "answer = pd.read_csv(\"answer.csv\")\n",
    "answer = answer[\"value\"].values.shape"
   ]
  },
  {
   "cell_type": "code",
   "execution_count": 26,
   "metadata": {},
   "outputs": [
    {
     "data": {
      "text/plain": [
       "array([[ 33,  60,  16,  33,   5,  41,  46,  25,  38,  26,  31,  59,  41,\n",
       "         45,  23,  18,  51,  30,  19,  20,  16,  31,  44,   4,  63,  48,\n",
       "         26,   1,  21,  48,  31,  15,  21,   4,  14,  39,  15,  28,  12,\n",
       "         54,  47,  20,  59,  17,  54,  51,  62,  37,  54,  42,  39,  29,\n",
       "         43,  21,  30,  43,  17,  19,  39,  27,  10,  25,  27,  66,  52,\n",
       "         24,  49,  54,  25,  39,  68,  43,  51,  12,  13,  25,  66,   4,\n",
       "         43,  36,  13,  34,   7,  24,  10,   7,  15,   6,  16,  19,  42,\n",
       "         11,  14,  17,  38,  11,  19,   6,   9,   5,   7,  17,   6,   8,\n",
       "          5,  37,  31,   0,  20,  20,  21,  14,  10,  27,  13,  13,   4,\n",
       "         40,  34,   0,   2,  12,  16,  21,   6,  27,  28,   9,  23,  25,\n",
       "          0,  34,  11,  17,  25,  27,   6,  26,  71,  53,  21,  19,  27,\n",
       "         11,  12,  17,  11,   4,  17,  10,  43,  21,  18,  13,  11,  13,\n",
       "         20,  38,  10,  28,  47,  17,  70,  14,  35,  31,  17,   6,  63,\n",
       "         24,  18,  70,  14,  11,  18,   0,   9,  18,  25,  20,  43,  34,\n",
       "         27,  17,  11,  54,  32,  27,  12,  32,   9,  14,  37,  76,  26,\n",
       "         16,  62,  19,  23,  27, 170,  16,  67,   4,  74,  48,  12,   7,\n",
       "         63,   7,  40,  84,  14,  99,  47,  91, 106,  88,  29,   7,  29,\n",
       "         65,  35,  27,  43,  13,   8,  69,  32,   0,  35,  11,  14,   4,\n",
       "         14,  20,  20,   0,  18,   3]], dtype=int64)"
      ]
     },
     "execution_count": 26,
     "metadata": {},
     "output_type": "execute_result"
    }
   ],
   "source": [
    "answer.reshape(1,240)"
   ]
  },
  {
   "cell_type": "code",
   "execution_count": 27,
   "metadata": {},
   "outputs": [
    {
     "data": {
      "text/plain": [
       "56.7492229417811"
      ]
     },
     "execution_count": 27,
     "metadata": {},
     "output_type": "execute_result"
    }
   ],
   "source": [
    "np.sum((y_pred - answer)**2)/240"
   ]
  },
  {
   "cell_type": "code",
   "execution_count": null,
   "metadata": {
    "collapsed": true
   },
   "outputs": [],
   "source": []
  }
 ],
 "metadata": {
  "kernelspec": {
   "display_name": "Python 3",
   "language": "python",
   "name": "python3"
  },
  "language_info": {
   "codemirror_mode": {
    "name": "ipython",
    "version": 3
   },
   "file_extension": ".py",
   "mimetype": "text/x-python",
   "name": "python",
   "nbconvert_exporter": "python",
   "pygments_lexer": "ipython3",
   "version": "3.6.3"
  }
 },
 "nbformat": 4,
 "nbformat_minor": 2
}
